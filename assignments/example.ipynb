{
 "cells": [
  {
   "cell_type": "markdown",
   "metadata": {},
   "source": [
    "# Jupyter Exercises\n",
    "\n",
    "Exercises for topic Jupyter."
   ]
  },
  {
   "cell_type": "markdown",
   "metadata": {
    "tags": []
   },
   "source": [
    "## Fibonacci"
   ]
  },
  {
   "cell_type": "code",
   "execution_count": null,
   "metadata": {},
   "outputs": [],
   "source": []
  },
  {
   "cell_type": "markdown",
   "metadata": {},
   "source": [
    "Fibonacci doesn't have to do anything with Jupyter, but this is just an example exercise sheet, so let's talk about Fibonacci Numbers anyways. Wikipedia says the following about Fibonacci Numbers:\n",
    "\n",
    "> In mathematics, the Fibonacci sequence is a sequence in which each number is the sum of the two preceding ones. Individual numbers in the Fibonacci sequence are known as Fibonacci numbers, commonly denoted Fn . The sequence commonly starts from 0 and 1, although some authors start the sequence from 1 and 1 or sometimes (as did Fibonacci) from 1 and 2. Starting from 0 and 1, the first few values in the sequence are:\n",
    ">\n",
    "> 0, 1, 1, 2, 3, 5, 8, 13, 21, 34, 55, 89, 144.\n",
    ">\n",
    "> The Fibonacci numbers were first described in Indian mathematics, as early as 200 BC in work by Pingala on enumerating possible patterns of Sanskrit poetry formed from syllables of two lengths. They are named after the Italian mathematician Leonardo of Pisa, later known as Fibonacci, who introduced the sequence to Western European mathematics in his 1202 book Liber Abaci.*\n",
    "\n",
    "Source: <https://en.wikipedia.org/wiki/Fibonacci_sequence>\n",
    "\n",
    "The goal of the following exercises is to calculate the first 20 fibonacci numbers by applying different programming techniques."
   ]
  },
  {
   "cell_type": "markdown",
   "metadata": {
    "assignment_id": "Fibonacci-For",
    "tags": [
     "assignment-start",
     "assignment"
    ]
   },
   "source": [
    "<a class=\"anchor\" name=\"a-Fibonacci-For\"></a>\n",
    "<h3>   ✎    Assignment Fibonacci-For</h3>"
   ]
  },
  {
   "cell_type": "markdown",
   "metadata": {
    "assignment_id": "Fibonacci-For",
    "tags": [
     "assignment"
    ]
   },
   "source": [
    "Write a python program that uses a `for` loop to print the first 20 Fibonacci Numbers."
   ]
  },
  {
   "cell_type": "markdown",
   "metadata": {
    "assignment_id": "Fibonacci-Recursive",
    "tags": [
     "assignment-start",
     "assignment"
    ]
   },
   "source": [
    "<a class=\"anchor\" name=\"a-Fibonacci-Recursive\"></a>\n",
    "<h3>   ✎    Assignment Fibonacci-Recursive</h3>"
   ]
  },
  {
   "cell_type": "markdown",
   "metadata": {
    "assignment_id": "Fibonacci-Recursive",
    "tags": [
     "assignment"
    ]
   },
   "source": [
    "In exercise [Fibonacci-For](#exercise-fibonacci-for) you used a for loop. Now write a python program that uses recursion to print the first 20 Fibonacci Numbers."
   ]
  },
  {
   "cell_type": "markdown",
   "metadata": {
    "jp-MarkdownHeadingCollapsed": true,
    "tags": []
   },
   "source": [
    "## Regular Expressions"
   ]
  },
  {
   "cell_type": "markdown",
   "metadata": {},
   "source": [
    "Regular expressions have nothing to do with Jupyter Notebooks as well, but I don't case. So here are some exercises regarding regular expression."
   ]
  },
  {
   "cell_type": "markdown",
   "metadata": {
    "assignment_id": "find-digits",
    "tags": [
     "assignment-start",
     "assignment"
    ]
   },
   "source": [
    "<a class=\"anchor\" name=\"a-find-digits\"></a>\n",
    "<h3>   ✎    Assignment find-digits</h3>"
   ]
  },
  {
   "cell_type": "markdown",
   "metadata": {
    "assignment_id": "find-digits",
    "tags": [
     "assignment"
    ]
   },
   "source": [
    "Write a python program that uses the package `re` to find all digits in the following string: \"asdfasdfasdf70asd89fa98sd87f670aasd7fasdfwerqw7e781234s0df\". The digits should be stored in a new string and printed to the console."
   ]
  }
 ],
 "metadata": {
  "kernelspec": {
   "display_name": "Python 3 (ipykernel)",
   "language": "python",
   "name": "python3"
  },
  "language_info": {
   "codemirror_mode": {
    "name": "ipython",
    "version": 3
   },
   "file_extension": ".py",
   "mimetype": "text/x-python",
   "name": "python",
   "nbconvert_exporter": "python",
   "pygments_lexer": "ipython3",
   "version": "3.11.4"
  }
 },
 "nbformat": 4,
 "nbformat_minor": 4
}
