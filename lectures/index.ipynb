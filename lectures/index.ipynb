{
 "cells": [
  {
   "cell_type": "markdown",
   "metadata": {},
   "source": [
    "# urnc-example-course"
   ]
  },
  {
   "cell_type": "markdown",
   "metadata": {},
   "source": [
    "Example course demonstrating the use of urnc (https://github.com/spang-lab/urnc)"
   ]
  }
 ],
 "metadata": {
  "language_info": {
   "name": "python"
  }
 },
 "nbformat": 4,
 "nbformat_minor": 2
}
